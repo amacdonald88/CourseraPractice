{
 "cells": [
  {
   "cell_type": "markdown",
   "metadata": {},
   "source": [
    "This will be practice of while loops thru coursera"
   ]
  },
  {
   "cell_type": "code",
   "execution_count": 1,
   "metadata": {},
   "outputs": [
    {
     "name": "stdout",
     "output_type": "stream",
     "text": [
      "not there yet, x =0\n",
      "not there yet, x =1\n",
      "not there yet, x =2\n",
      "not there yet, x =3\n",
      "not there yet, x =4\n",
      "x=5\n"
     ]
    }
   ],
   "source": [
    "x = 0\n",
    "while x < 5:\n",
    "    print(\"not there yet, x =\" + str(x))\n",
    "    x = x + 1\n",
    "print(\"x=\" + str(x))"
   ]
  },
  {
   "cell_type": "code",
   "execution_count": 3,
   "metadata": {},
   "outputs": [
    {
     "name": "stdout",
     "output_type": "stream",
     "text": [
      "Not quite, x = 0\n",
      "Not quite, x = 1\n",
      "Not quite, x = 2\n",
      "Not quite, x = 3\n",
      "Not quite, x = 4\n",
      "Not quite, x = 5\n",
      "Not quite, x = 6\n",
      "Not quite, x = 7\n",
      "Not quite, x = 8\n",
      "Not quite, x = 9\n",
      "x = 10\n"
     ]
    }
   ],
   "source": [
    "x = 0\n",
    "while x < 10:\n",
    "    print(\"Not quite, x = \" + str(x))\n",
    "    x = x + 1\n",
    "print(\"x = \" + str(x))"
   ]
  },
  {
   "cell_type": "markdown",
   "metadata": {},
   "source": [
    "x = 0 setting variable to 0 or initialization"
   ]
  },
  {
   "cell_type": "code",
   "execution_count": 4,
   "metadata": {},
   "outputs": [
    {
     "name": "stdout",
     "output_type": "stream",
     "text": [
      "not ready yet, x = 1\n",
      "not ready yet, x = 2\n",
      "not ready yet, x = 3\n",
      "not ready yet, x = 4\n",
      "all set now, x = 5\n"
     ]
    }
   ],
   "source": [
    "x = 1\n",
    "while x < 5:\n",
    "    print(\"not ready yet, x = \" + str(x))\n",
    "    x = x + 1\n",
    "print(\"all set now, x = \"+ str(x))"
   ]
  },
  {
   "cell_type": "code",
   "execution_count": 7,
   "metadata": {},
   "outputs": [],
   "source": [
    "def lessthan (n):\n",
    "    x = 1\n",
    "    while x <= n:\n",
    "        print (\"not there yet, x = \" + str(x))\n",
    "        x = x + 1\n",
    "    print (\"finally x = \" + str(x))"
   ]
  },
  {
   "cell_type": "code",
   "execution_count": 8,
   "metadata": {},
   "outputs": [
    {
     "name": "stdout",
     "output_type": "stream",
     "text": [
      "not there yet, x = 1\n",
      "not there yet, x = 2\n",
      "not there yet, x = 3\n",
      "not there yet, x = 4\n",
      "not there yet, x = 5\n",
      "not there yet, x = 6\n",
      "not there yet, x = 7\n",
      "not there yet, x = 8\n",
      "not there yet, x = 9\n",
      "not there yet, x = 10\n",
      "not there yet, x = 11\n",
      "not there yet, x = 12\n",
      "not there yet, x = 13\n",
      "not there yet, x = 14\n",
      "not there yet, x = 15\n",
      "not there yet, x = 16\n",
      "not there yet, x = 17\n",
      "not there yet, x = 18\n",
      "not there yet, x = 19\n",
      "not there yet, x = 20\n",
      "not there yet, x = 21\n",
      "not there yet, x = 22\n",
      "not there yet, x = 23\n",
      "not there yet, x = 24\n",
      "not there yet, x = 25\n",
      "not there yet, x = 26\n",
      "not there yet, x = 27\n",
      "not there yet, x = 28\n",
      "not there yet, x = 29\n",
      "not there yet, x = 30\n",
      "not there yet, x = 31\n",
      "not there yet, x = 32\n",
      "not there yet, x = 33\n",
      "not there yet, x = 34\n",
      "not there yet, x = 35\n",
      "not there yet, x = 36\n",
      "not there yet, x = 37\n",
      "not there yet, x = 38\n",
      "not there yet, x = 39\n",
      "not there yet, x = 40\n",
      "not there yet, x = 41\n",
      "not there yet, x = 42\n",
      "not there yet, x = 43\n",
      "not there yet, x = 44\n",
      "not there yet, x = 45\n",
      "not there yet, x = 46\n",
      "not there yet, x = 47\n",
      "not there yet, x = 48\n",
      "not there yet, x = 49\n",
      "not there yet, x = 50\n",
      "finally x = 51\n"
     ]
    }
   ],
   "source": [
    "lessthan(50)"
   ]
  },
  {
   "cell_type": "code",
   "execution_count": 9,
   "metadata": {},
   "outputs": [],
   "source": [
    "def test2 (n):\n",
    "    x = 1\n",
    "    while x <= n:\n",
    "        print (\"almost there, x = \"+ str(x))\n",
    "        x += 1\n",
    "    print (\"got it, x = \"+ str(x))"
   ]
  },
  {
   "cell_type": "code",
   "execution_count": 10,
   "metadata": {},
   "outputs": [
    {
     "name": "stdout",
     "output_type": "stream",
     "text": [
      "almost there, x = 1\n",
      "almost there, x = 2\n",
      "almost there, x = 3\n",
      "almost there, x = 4\n",
      "almost there, x = 5\n",
      "almost there, x = 6\n",
      "almost there, x = 7\n",
      "almost there, x = 8\n",
      "almost there, x = 9\n",
      "almost there, x = 10\n",
      "almost there, x = 11\n",
      "almost there, x = 12\n",
      "almost there, x = 13\n",
      "almost there, x = 14\n",
      "almost there, x = 15\n",
      "almost there, x = 16\n",
      "almost there, x = 17\n",
      "almost there, x = 18\n",
      "almost there, x = 19\n",
      "almost there, x = 20\n",
      "got it, x = 21\n"
     ]
    }
   ],
   "source": [
    "test2(20)"
   ]
  },
  {
   "cell_type": "code",
   "execution_count": 11,
   "metadata": {},
   "outputs": [],
   "source": [
    "#def print_range(start, end):\n",
    "\t# Loop through the numbers from start to end\n",
    "#\tn = start\n",
    "#\twhile n <= end:\n",
    "#\t\tprint(n)\n",
    "#\tn += 1\n",
    "#print_range(1, 5)  # Should print 1 2 3 4 5 (each number on its own line) "
   ]
  },
  {
   "cell_type": "markdown",
   "metadata": {},
   "source": [
    "what is causing this to have an infinite loop"
   ]
  },
  {
   "cell_type": "code",
   "execution_count": 1,
   "metadata": {},
   "outputs": [],
   "source": [
    "def test4 (n):\n",
    "    x = 1\n",
    "    while x <= n:\n",
    "        print(\"no, x = \" + str (x))\n",
    "        x+=1\n",
    "    print(\"yes, x = \" + str(x))"
   ]
  },
  {
   "cell_type": "code",
   "execution_count": 2,
   "metadata": {},
   "outputs": [
    {
     "name": "stdout",
     "output_type": "stream",
     "text": [
      "no, x = 1\n",
      "no, x = 2\n",
      "no, x = 3\n",
      "no, x = 4\n",
      "no, x = 5\n",
      "yes, x = 6\n"
     ]
    }
   ],
   "source": [
    "test4(5)"
   ]
  },
  {
   "cell_type": "code",
   "execution_count": 3,
   "metadata": {},
   "outputs": [],
   "source": [
    "def test5 (n):\n",
    "    x=1\n",
    "    while x <=n :\n",
    "        print(\"no\")\n",
    "        x+=1\n",
    "    print (\"yes \" + str(x))"
   ]
  },
  {
   "cell_type": "code",
   "execution_count": 4,
   "metadata": {},
   "outputs": [
    {
     "name": "stdout",
     "output_type": "stream",
     "text": [
      "no\n",
      "no\n",
      "no\n",
      "no\n",
      "no\n",
      "no\n",
      "no\n",
      "yes 8\n"
     ]
    }
   ],
   "source": [
    "test5(7)"
   ]
  },
  {
   "cell_type": "code",
   "execution_count": 5,
   "metadata": {},
   "outputs": [
    {
     "data": {
      "text/plain": [
       "1"
      ]
     },
     "execution_count": 5,
     "metadata": {},
     "output_type": "execute_result"
    }
   ],
   "source": [
    "1%2"
   ]
  },
  {
   "cell_type": "code",
   "execution_count": 6,
   "metadata": {},
   "outputs": [
    {
     "data": {
      "text/plain": [
       "0"
      ]
     },
     "execution_count": 6,
     "metadata": {},
     "output_type": "execute_result"
    }
   ],
   "source": [
    "8%2"
   ]
  },
  {
   "cell_type": "code",
   "execution_count": null,
   "metadata": {},
   "outputs": [],
   "source": [
    "def is_power_of_two(n):\n",
    "  # Check if the number can be divided by two without a remainder\n",
    "    while n % 2 == 0:\n",
    "        n = n / 2\n",
    "  # If after dividing by two the number is 1, it's a power of two\n",
    "    if n == 1:\n",
    "        return True\n",
    "    return False\n",
    "  \n",
    "\n",
    "print(is_power_of_two(0)) # Should be False\n",
    "print(is_power_of_two(1)) # Should be True\n",
    "print(is_power_of_two(8)) # Should be True\n",
    "print(is_power_of_two(9)) # Should be False"
   ]
  },
  {
   "cell_type": "code",
   "execution_count": null,
   "metadata": {},
   "outputs": [],
   "source": [
    "is_power_of_two(0))"
   ]
  },
  {
   "cell_type": "code",
   "execution_count": 1,
   "metadata": {},
   "outputs": [
    {
     "data": {
      "text/plain": [
       "1"
      ]
     },
     "execution_count": 1,
     "metadata": {},
     "output_type": "execute_result"
    }
   ],
   "source": [
    "1%2"
   ]
  },
  {
   "cell_type": "code",
   "execution_count": 1,
   "metadata": {},
   "outputs": [],
   "source": [
    "def test9 (b):\n",
    "    x = 1\n",
    "    while x < b:\n",
    "        print (\"no\")\n",
    "        x +=1\n",
    "    print (\"yes\")"
   ]
  },
  {
   "cell_type": "code",
   "execution_count": 2,
   "metadata": {},
   "outputs": [
    {
     "name": "stdout",
     "output_type": "stream",
     "text": [
      "no\n",
      "no\n",
      "no\n",
      "no\n",
      "no\n",
      "no\n",
      "no\n",
      "no\n",
      "no\n",
      "yes\n"
     ]
    }
   ],
   "source": [
    "test9(10)"
   ]
  },
  {
   "cell_type": "code",
   "execution_count": 1,
   "metadata": {},
   "outputs": [
    {
     "data": {
      "text/plain": [
       "1"
      ]
     },
     "execution_count": 1,
     "metadata": {},
     "output_type": "execute_result"
    }
   ],
   "source": [
    "1%2"
   ]
  },
  {
   "cell_type": "code",
   "execution_count": 2,
   "metadata": {},
   "outputs": [],
   "source": [
    "def ispowerof2(n):\n",
    "    if n == 0:\n",
    "        return False\n",
    "    while n % 2 == 0:\n",
    "        n = n / 2\n",
    "    return n == 1"
   ]
  },
  {
   "cell_type": "code",
   "execution_count": 3,
   "metadata": {},
   "outputs": [
    {
     "data": {
      "text/plain": [
       "False"
      ]
     },
     "execution_count": 3,
     "metadata": {},
     "output_type": "execute_result"
    }
   ],
   "source": [
    "ispowerof2(0)"
   ]
  },
  {
   "cell_type": "code",
   "execution_count": 4,
   "metadata": {},
   "outputs": [
    {
     "data": {
      "text/plain": [
       "False"
      ]
     },
     "execution_count": 4,
     "metadata": {},
     "output_type": "execute_result"
    }
   ],
   "source": [
    "ispowerof2(40)"
   ]
  },
  {
   "cell_type": "code",
   "execution_count": 5,
   "metadata": {},
   "outputs": [
    {
     "data": {
      "text/plain": [
       "True"
      ]
     },
     "execution_count": 5,
     "metadata": {},
     "output_type": "execute_result"
    }
   ],
   "source": [
    "ispowerof2(4)"
   ]
  },
  {
   "cell_type": "markdown",
   "metadata": {},
   "source": [
    "FILL IN THE FUNCTION SO THAT IT RETURNS THE SUM OF ALL THE DIVISORS OF A NUMBER, WITHOUT INCLUDING IT. A DIVISOR IS A NUMBER THAT DIVIDES INTO ANOTHER WITHOUT A REMAINDER"
   ]
  },
  {
   "cell_type": "code",
   "execution_count": 6,
   "metadata": {},
   "outputs": [],
   "source": [
    "def divisor_trial(n):\n",
    "    b = 1\n",
    "    sum = 0\n",
    "    while b < n and n !=0:\n",
    "        if n % b == 0:\n",
    "            sum = sum + b\n",
    "        b+=1\n",
    "    return sum"
   ]
  },
  {
   "cell_type": "code",
   "execution_count": 8,
   "metadata": {},
   "outputs": [
    {
     "data": {
      "text/plain": [
       "55"
      ]
     },
     "execution_count": 8,
     "metadata": {},
     "output_type": "execute_result"
    }
   ],
   "source": [
    "divisor_trial(36)"
   ]
  },
  {
   "cell_type": "code",
   "execution_count": 2,
   "metadata": {},
   "outputs": [],
   "source": [
    "def divisortrial2 (number):\n",
    "    b = 1\n",
    "    sum = 0\n",
    "    while b < number and number !=0:\n",
    "        if number % b == 0:\n",
    "            sum = sum + b\n",
    "        b+=1\n",
    "    return sum\n",
    "#so long as b is less than the user entry and the user entry is not 0 then if the remainder of the user entry\n",
    "#is 0 then add 1 to the sum value"
   ]
  },
  {
   "cell_type": "code",
   "execution_count": 3,
   "metadata": {},
   "outputs": [
    {
     "data": {
      "text/plain": [
       "1"
      ]
     },
     "execution_count": 3,
     "metadata": {},
     "output_type": "execute_result"
    }
   ],
   "source": [
    "divisortrial2(109)"
   ]
  },
  {
   "cell_type": "code",
   "execution_count": 4,
   "metadata": {},
   "outputs": [
    {
     "data": {
      "text/plain": [
       "106"
      ]
     },
     "execution_count": 4,
     "metadata": {},
     "output_type": "execute_result"
    }
   ],
   "source": [
    "divisortrial2(110)"
   ]
  },
  {
   "cell_type": "code",
   "execution_count": 5,
   "metadata": {},
   "outputs": [
    {
     "data": {
      "text/plain": [
       "6"
      ]
     },
     "execution_count": 5,
     "metadata": {},
     "output_type": "execute_result"
    }
   ],
   "source": [
    "divisortrial2(6)"
   ]
  },
  {
   "cell_type": "code",
   "execution_count": 6,
   "metadata": {},
   "outputs": [
    {
     "data": {
      "text/plain": [
       "3"
      ]
     },
     "execution_count": 6,
     "metadata": {},
     "output_type": "execute_result"
    }
   ],
   "source": [
    "divisortrial2(4)"
   ]
  },
  {
   "cell_type": "code",
   "execution_count": 7,
   "metadata": {},
   "outputs": [
    {
     "data": {
      "text/plain": [
       "1"
      ]
     },
     "execution_count": 7,
     "metadata": {},
     "output_type": "execute_result"
    }
   ],
   "source": [
    "divisortrial2(5)"
   ]
  },
  {
   "cell_type": "code",
   "execution_count": 8,
   "metadata": {},
   "outputs": [],
   "source": [
    "def dtrial (number):\n",
    "    g = 1\n",
    "    sum = 0\n",
    "    while g < number and number !=0:\n",
    "        if number % g == 0:\n",
    "            sum = sum + g\n",
    "        g+=1\n",
    "    return sum\n",
    "    "
   ]
  },
  {
   "cell_type": "code",
   "execution_count": 9,
   "metadata": {},
   "outputs": [
    {
     "name": "stdout",
     "output_type": "stream",
     "text": [
      "0\n",
      "1\n",
      "2\n",
      "3\n",
      "4\n",
      "5\n",
      "6\n",
      "7\n",
      "8\n",
      "9\n"
     ]
    }
   ],
   "source": [
    "for x in range(10):\n",
    "    print(x)"
   ]
  },
  {
   "cell_type": "code",
   "execution_count": 11,
   "metadata": {},
   "outputs": [
    {
     "name": "stdout",
     "output_type": "stream",
     "text": [
      "2\n",
      "3\n",
      "4\n",
      "5\n",
      "6\n",
      "7\n",
      "8\n",
      "9\n",
      "10\n",
      "11\n"
     ]
    }
   ],
   "source": [
    "for x in range(10):\n",
    "    print (x + 2)"
   ]
  },
  {
   "cell_type": "code",
   "execution_count": null,
   "metadata": {},
   "outputs": [],
   "source": [
    "x = 1 \n",
    "while x < 5:\n",
    "    print(\"not there yet, x = \"+ str(x))\n",
    "    x+=1\n",
    "print (\"now we are good \"+ str(x))"
   ]
  },
  {
   "cell_type": "code",
   "execution_count": 2,
   "metadata": {},
   "outputs": [
    {
     "name": "stdout",
     "output_type": "stream",
     "text": [
      "not there yet, x = 1\n",
      "not there yet, x = 2\n",
      "not there yet, x = 3\n",
      "not there yet, x = 4\n",
      "now we are good 5\n"
     ]
    }
   ],
   "source": [
    "x = 1 \n",
    "while x < 5:\n",
    "    print(\"not there yet, x = \"+ str(x))\n",
    "    x = x + 1\n",
    "print (\"now we are good \"+ str(x))"
   ]
  },
  {
   "cell_type": "code",
   "execution_count": 3,
   "metadata": {},
   "outputs": [
    {
     "name": "stdout",
     "output_type": "stream",
     "text": [
      "not there yet, x = 1\n",
      "not there yet, x = 2\n",
      "not there yet, x = 3\n",
      "not there yet, x = 4\n",
      "now we are good 5\n"
     ]
    }
   ],
   "source": [
    "x = 1 \n",
    "while x < 5:\n",
    "    print(\"not there yet, x = \"+ str(x))\n",
    "    x+=1\n",
    "print (\"now we are good \"+ str(x))"
   ]
  },
  {
   "cell_type": "code",
   "execution_count": 4,
   "metadata": {},
   "outputs": [
    {
     "name": "stdout",
     "output_type": "stream",
     "text": [
      "not there yet2\n",
      "not there yet3\n",
      "not there yet4\n",
      "not there yet5\n",
      "not there yet6\n",
      "not there yet7\n",
      "not there yet8\n",
      "not there yet9\n",
      "now we're good 10\n"
     ]
    }
   ],
   "source": [
    "x = 2\n",
    "while x < 10:\n",
    "    print (\"not there yet\" + str(x))\n",
    "    x+=1\n",
    "print (\"now we're good \"+ str(x))"
   ]
  },
  {
   "cell_type": "code",
   "execution_count": 5,
   "metadata": {},
   "outputs": [],
   "source": [
    "def lesst (n):\n",
    "    x = 1\n",
    "    while x <= n:\n",
    "        print(\"not there yet \"+ str(x))\n",
    "        x+=1\n",
    "    print(\"now we are good\"+\"\"+str(x))"
   ]
  },
  {
   "cell_type": "code",
   "execution_count": 6,
   "metadata": {},
   "outputs": [
    {
     "name": "stdout",
     "output_type": "stream",
     "text": [
      "not there yet 1\n",
      "not there yet 2\n",
      "not there yet 3\n",
      "not there yet 4\n",
      "not there yet 5\n",
      "not there yet 6\n",
      "not there yet 7\n",
      "not there yet 8\n",
      "not there yet 9\n",
      "not there yet 10\n",
      "not there yet 11\n",
      "not there yet 12\n",
      "not there yet 13\n",
      "not there yet 14\n",
      "not there yet 15\n",
      "not there yet 16\n",
      "not there yet 17\n",
      "not there yet 18\n",
      "not there yet 19\n",
      "not there yet 20\n",
      "now we are good21\n"
     ]
    }
   ],
   "source": [
    "lesst(20)"
   ]
  },
  {
   "cell_type": "code",
   "execution_count": null,
   "metadata": {},
   "outputs": [],
   "source": []
  }
 ],
 "metadata": {
  "kernelspec": {
   "display_name": "Python 3",
   "language": "python",
   "name": "python3"
  },
  "language_info": {
   "codemirror_mode": {
    "name": "ipython",
    "version": 3
   },
   "file_extension": ".py",
   "mimetype": "text/x-python",
   "name": "python",
   "nbconvert_exporter": "python",
   "pygments_lexer": "ipython3",
   "version": "3.7.6"
  }
 },
 "nbformat": 4,
 "nbformat_minor": 4
}
